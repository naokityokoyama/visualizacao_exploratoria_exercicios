{
  "nbformat": 4,
  "nbformat_minor": 0,
  "metadata": {
    "kernelspec": {
      "display_name": "Python 3",
      "language": "python",
      "name": "python3"
    },
    "language_info": {
      "codemirror_mode": {
        "name": "ipython",
        "version": 3
      },
      "file_extension": ".py",
      "mimetype": "text/x-python",
      "name": "python",
      "nbconvert_exporter": "python",
      "pygments_lexer": "ipython3",
      "version": "3.7.6"
    },
    "colab": {
      "name": "visualizacao_com_matplotlib.ipynb",
      "provenance": [],
      "toc_visible": true
    }
  },
  "cells": [
    {
      "cell_type": "markdown",
      "metadata": {
        "id": "QuxZQ4uC2iHO",
        "colab_type": "text"
      },
      "source": [
        "<img src=\"https://i.imgur.com/YX6UATs.png\"  width=\"160\">"
      ]
    },
    {
      "cell_type": "markdown",
      "metadata": {
        "id": "lWzJvybs2iHR",
        "colab_type": "text"
      },
      "source": [
        "## Projeto - Visualização com Matplotlib\n",
        "\n",
        "## Considerações iniciais\n",
        "\n",
        "O objetivo deste notebook é fazer com que o leitor assimile os recursos de uma das bibliotecas mais importantes do Python - Matplotlib. Alguns exemplos e conceitos serão apresentados ao longo da jornada. Concomitantemente, serão solicitadas algumas tarefas do leitor.\n",
        "\n",
        "### Por que o Matplotlib?\n",
        "Apesar do Python ser possuir um ecossitema de feramentas de visualização muito rico para o cientista de dados, o Matplotlib, sem dúvida, possui seu lugar de destaque.\n",
        "\n",
        "> \"Matplolib tenta facilitar as coisas fáceis e tornar as coisas difíceis possíveis.\"\n",
        ">\n",
        "> [Site do Matplotlib](https://matplotlib.org/)\n",
        "\n",
        "Além do Matplotlib, utilizaremos um conjunto de dados e mais algumas outras bibliotecas de apoio como o [Pandas](https://pandas.pydata.org/). Afinal, o Matplotlib é ótimo, mas não brilha sozinho.\n",
        "\n",
        "### Prepare seu ambiente\n",
        "\n",
        "Se necessário, faça a instalação da biblioteca no seu sistema usando o gerenciador de pacotes da linguagem, no prompt/terminal/cmd digite:\n",
        "```\n",
        "$ pip install matplotlib\n",
        "```\n",
        "\n",
        "Ou caso esteja usando o Anaconda:\n",
        "```\n",
        "$ conda install matplotlib\n",
        "```\n",
        "\n",
        "### Conjunto de dados\n",
        "O conjunto de dados utilizado são os registros de milhares de lutas no Ultimate Fight Championship (UFC). O arquivo [ufc.csv](ufc.csv) possui mais de 145 colunas, o que é demasiadamente grande para as nossas intenções. Deste modo, iremos focar apenas uma parte dos dados.\n",
        "\n",
        "#### Descrição do dados\n",
        "\n",
        "De todas as colunas do arquivo [ufc.csv](ufc.csv), iremos praticar com:\n",
        "- R_fighter: Nome do lutador do canto vermelho.\n",
        "- B_fighter: Nome do lutador do canto azul.\n",
        "- Referee: Nome do árbitro da luta.\n",
        "- date: Data do evento\n",
        "- location: Local do evento.\n",
        "- Winner: Cor do vencedor - Red ou Blue.\n",
        "- title_bout: Se é uma disputa pelo título.\n",
        "- weight_class: Classe de peso da luta."
      ]
    },
    {
      "cell_type": "markdown",
      "metadata": {
        "id": "asABed0t2iHT",
        "colab_type": "text"
      },
      "source": [
        "## Procedimentos\n",
        "\n",
        "Vamos abordar alguns padrões básicos de uso e práticas recomendadas para ajudar você a utilizar o Matplotlib. Por ser ter um código bastante extenso, o Matplotlib pode ser um desafio ultrajante (e é) para os iniciantes, porém não se intimide. A intenção deste guia é focar no essencial para plotagem dos primeiros gráficos sem necessitar de muita informação.\n",
        "\n",
        "### Importando as bibliotecas\n",
        "- **%matplotlib inline**: é uma *Magic Word* do Jupyter Notebook que informa à plataforma que informa ao Jupyter para que os gráficos sejam plotados diratemente no notebook.\n",
        "- **numpy**: Uma biblioteca de apoio para gerar alguns dados para plotagem.\n",
        "- **pandas**: A biblioteca pandas fornece estruturas e ferramentas de análise de dados. Iremos utilizá-la para carregar e manipular o conjunto de dados em uma estrutura chamada *dataframe*. Por convenção, recomenda-se o pandas seja utilizado com o nome *pd*.\n",
        "- **matplotlib.pyplot**: A estrela de hoje. Por convenção, recomenda-se que matplotlib.pyplot seja acessado via pelo nome *plt*."
      ]
    },
    {
      "cell_type": "code",
      "metadata": {
        "id": "O-MgSD5b2iHV",
        "colab_type": "code",
        "colab": {}
      },
      "source": [
        "%matplotlib inline\n",
        "import numpy as np\n",
        "import pandas as pd\n",
        "import matplotlib.pyplot as plt"
      ],
      "execution_count": 4,
      "outputs": []
    },
    {
      "cell_type": "markdown",
      "metadata": {
        "id": "CFUIBcPA2iHf",
        "colab_type": "text"
      },
      "source": [
        "### TAREFA 01\n",
        "1. Importe o arquivo [ufc.csv](ufc.csv) em um dataframe.\n",
        "2. Visualize as primeiras 5 linhas do dataframe"
      ]
    },
    {
      "cell_type": "code",
      "metadata": {
        "id": "16Sc7I_V2iHg",
        "colab_type": "code",
        "colab": {}
      },
      "source": [
        "fights = pd.read_csv('https://raw.githubusercontent.com/naokityokoyama/visualizacao_exploratoria_exercicios/master/01-exercicios-matplotlib/ufc.csv')"
      ],
      "execution_count": 16,
      "outputs": []
    },
    {
      "cell_type": "code",
      "metadata": {
        "id": "oGT7-IwB50-G",
        "colab_type": "code",
        "colab": {
          "base_uri": "https://localhost:8080/",
          "height": 413
        },
        "outputId": "c15c519d-78c5-47a2-d3c4-00cb44ea4d4c"
      },
      "source": [
        "fights.head()"
      ],
      "execution_count": 17,
      "outputs": [
        {
          "output_type": "execute_result",
          "data": {
            "text/html": [
              "<div>\n",
              "<style scoped>\n",
              "    .dataframe tbody tr th:only-of-type {\n",
              "        vertical-align: middle;\n",
              "    }\n",
              "\n",
              "    .dataframe tbody tr th {\n",
              "        vertical-align: top;\n",
              "    }\n",
              "\n",
              "    .dataframe thead th {\n",
              "        text-align: right;\n",
              "    }\n",
              "</style>\n",
              "<table border=\"1\" class=\"dataframe\">\n",
              "  <thead>\n",
              "    <tr style=\"text-align: right;\">\n",
              "      <th></th>\n",
              "      <th>R_fighter</th>\n",
              "      <th>B_fighter</th>\n",
              "      <th>Referee</th>\n",
              "      <th>date</th>\n",
              "      <th>location</th>\n",
              "      <th>Winner</th>\n",
              "      <th>title_bout</th>\n",
              "      <th>weight_class</th>\n",
              "      <th>no_of_rounds</th>\n",
              "      <th>B_current_lose_streak</th>\n",
              "      <th>B_current_win_streak</th>\n",
              "      <th>B_draw</th>\n",
              "      <th>B_avg_BODY_att</th>\n",
              "      <th>B_avg_BODY_landed</th>\n",
              "      <th>B_avg_CLINCH_att</th>\n",
              "      <th>B_avg_CLINCH_landed</th>\n",
              "      <th>B_avg_DISTANCE_att</th>\n",
              "      <th>B_avg_DISTANCE_landed</th>\n",
              "      <th>B_avg_GROUND_att</th>\n",
              "      <th>B_avg_GROUND_landed</th>\n",
              "      <th>B_avg_HEAD_att</th>\n",
              "      <th>B_avg_HEAD_landed</th>\n",
              "      <th>B_avg_KD</th>\n",
              "      <th>B_avg_LEG_att</th>\n",
              "      <th>B_avg_LEG_landed</th>\n",
              "      <th>B_avg_PASS</th>\n",
              "      <th>B_avg_REV</th>\n",
              "      <th>B_avg_SIG_STR_att</th>\n",
              "      <th>B_avg_SIG_STR_landed</th>\n",
              "      <th>B_avg_SIG_STR_pct</th>\n",
              "      <th>B_avg_SUB_ATT</th>\n",
              "      <th>B_avg_TD_att</th>\n",
              "      <th>B_avg_TD_landed</th>\n",
              "      <th>B_avg_TD_pct</th>\n",
              "      <th>B_avg_TOTAL_STR_att</th>\n",
              "      <th>B_avg_TOTAL_STR_landed</th>\n",
              "      <th>B_longest_win_streak</th>\n",
              "      <th>B_losses</th>\n",
              "      <th>B_avg_opp_BODY_att</th>\n",
              "      <th>B_avg_opp_BODY_landed</th>\n",
              "      <th>...</th>\n",
              "      <th>R_avg_opp_BODY_att</th>\n",
              "      <th>R_avg_opp_BODY_landed</th>\n",
              "      <th>R_avg_opp_CLINCH_att</th>\n",
              "      <th>R_avg_opp_CLINCH_landed</th>\n",
              "      <th>R_avg_opp_DISTANCE_att</th>\n",
              "      <th>R_avg_opp_DISTANCE_landed</th>\n",
              "      <th>R_avg_opp_GROUND_att</th>\n",
              "      <th>R_avg_opp_GROUND_landed</th>\n",
              "      <th>R_avg_opp_HEAD_att</th>\n",
              "      <th>R_avg_opp_HEAD_landed</th>\n",
              "      <th>R_avg_opp_KD</th>\n",
              "      <th>R_avg_opp_LEG_att</th>\n",
              "      <th>R_avg_opp_LEG_landed</th>\n",
              "      <th>R_avg_opp_PASS</th>\n",
              "      <th>R_avg_opp_REV</th>\n",
              "      <th>R_avg_opp_SIG_STR_att</th>\n",
              "      <th>R_avg_opp_SIG_STR_landed</th>\n",
              "      <th>R_avg_opp_SIG_STR_pct</th>\n",
              "      <th>R_avg_opp_SUB_ATT</th>\n",
              "      <th>R_avg_opp_TD_att</th>\n",
              "      <th>R_avg_opp_TD_landed</th>\n",
              "      <th>R_avg_opp_TD_pct</th>\n",
              "      <th>R_avg_opp_TOTAL_STR_att</th>\n",
              "      <th>R_avg_opp_TOTAL_STR_landed</th>\n",
              "      <th>R_total_rounds_fought</th>\n",
              "      <th>R_total_time_fought(seconds)</th>\n",
              "      <th>R_total_title_bouts</th>\n",
              "      <th>R_win_by_Decision_Majority</th>\n",
              "      <th>R_win_by_Decision_Split</th>\n",
              "      <th>R_win_by_Decision_Unanimous</th>\n",
              "      <th>R_win_by_KO/TKO</th>\n",
              "      <th>R_win_by_Submission</th>\n",
              "      <th>R_win_by_TKO_Doctor_Stoppage</th>\n",
              "      <th>R_wins</th>\n",
              "      <th>R_Stance</th>\n",
              "      <th>R_Height_cms</th>\n",
              "      <th>R_Reach_cms</th>\n",
              "      <th>R_Weight_lbs</th>\n",
              "      <th>B_age</th>\n",
              "      <th>R_age</th>\n",
              "    </tr>\n",
              "  </thead>\n",
              "  <tbody>\n",
              "    <tr>\n",
              "      <th>0</th>\n",
              "      <td>Henry Cejudo</td>\n",
              "      <td>Marlon Moraes</td>\n",
              "      <td>Marc Goddard</td>\n",
              "      <td>2019-06-08</td>\n",
              "      <td>Chicago, Illinois, USA</td>\n",
              "      <td>Red</td>\n",
              "      <td>True</td>\n",
              "      <td>Bantamweight</td>\n",
              "      <td>5</td>\n",
              "      <td>0.0</td>\n",
              "      <td>4.0</td>\n",
              "      <td>0.0</td>\n",
              "      <td>9.200000</td>\n",
              "      <td>6.000000</td>\n",
              "      <td>0.200000</td>\n",
              "      <td>0.000000</td>\n",
              "      <td>62.600000</td>\n",
              "      <td>20.600000</td>\n",
              "      <td>2.600000</td>\n",
              "      <td>2.000000</td>\n",
              "      <td>48.600000</td>\n",
              "      <td>11.200000</td>\n",
              "      <td>0.800000</td>\n",
              "      <td>7.6</td>\n",
              "      <td>5.400000</td>\n",
              "      <td>0.400000</td>\n",
              "      <td>0.000000</td>\n",
              "      <td>65.40</td>\n",
              "      <td>22.600000</td>\n",
              "      <td>0.466000</td>\n",
              "      <td>0.400000</td>\n",
              "      <td>0.80000</td>\n",
              "      <td>0.200000</td>\n",
              "      <td>0.100000</td>\n",
              "      <td>66.400000</td>\n",
              "      <td>23.600000</td>\n",
              "      <td>4.0</td>\n",
              "      <td>1.0</td>\n",
              "      <td>6.400000</td>\n",
              "      <td>4.000000</td>\n",
              "      <td>...</td>\n",
              "      <td>13.300000</td>\n",
              "      <td>8.800000</td>\n",
              "      <td>7.500000</td>\n",
              "      <td>5.100000</td>\n",
              "      <td>90.500000</td>\n",
              "      <td>26.800000</td>\n",
              "      <td>0.800000</td>\n",
              "      <td>0.300000</td>\n",
              "      <td>76.100000</td>\n",
              "      <td>17.300000</td>\n",
              "      <td>0.100000</td>\n",
              "      <td>9.400000</td>\n",
              "      <td>6.100000</td>\n",
              "      <td>0.000000</td>\n",
              "      <td>0.000000</td>\n",
              "      <td>98.800000</td>\n",
              "      <td>32.200000</td>\n",
              "      <td>0.336000</td>\n",
              "      <td>0.000000</td>\n",
              "      <td>0.900000</td>\n",
              "      <td>0.100000</td>\n",
              "      <td>0.050000</td>\n",
              "      <td>110.500000</td>\n",
              "      <td>43.300000</td>\n",
              "      <td>27.0</td>\n",
              "      <td>742.60</td>\n",
              "      <td>3.0</td>\n",
              "      <td>0.0</td>\n",
              "      <td>2.0</td>\n",
              "      <td>4.0</td>\n",
              "      <td>2.0</td>\n",
              "      <td>0.0</td>\n",
              "      <td>0.0</td>\n",
              "      <td>8.0</td>\n",
              "      <td>Orthodox</td>\n",
              "      <td>162.56</td>\n",
              "      <td>162.56</td>\n",
              "      <td>135.0</td>\n",
              "      <td>31.0</td>\n",
              "      <td>32.0</td>\n",
              "    </tr>\n",
              "    <tr>\n",
              "      <th>1</th>\n",
              "      <td>Valentina Shevchenko</td>\n",
              "      <td>Jessica Eye</td>\n",
              "      <td>Robert Madrigal</td>\n",
              "      <td>2019-06-08</td>\n",
              "      <td>Chicago, Illinois, USA</td>\n",
              "      <td>Red</td>\n",
              "      <td>True</td>\n",
              "      <td>Women's Flyweight</td>\n",
              "      <td>5</td>\n",
              "      <td>0.0</td>\n",
              "      <td>3.0</td>\n",
              "      <td>0.0</td>\n",
              "      <td>14.600000</td>\n",
              "      <td>9.100000</td>\n",
              "      <td>11.800000</td>\n",
              "      <td>7.300000</td>\n",
              "      <td>124.700000</td>\n",
              "      <td>42.100000</td>\n",
              "      <td>2.400000</td>\n",
              "      <td>1.900000</td>\n",
              "      <td>112.000000</td>\n",
              "      <td>32.000000</td>\n",
              "      <td>0.000000</td>\n",
              "      <td>12.3</td>\n",
              "      <td>10.200000</td>\n",
              "      <td>0.800000</td>\n",
              "      <td>0.000000</td>\n",
              "      <td>138.90</td>\n",
              "      <td>51.300000</td>\n",
              "      <td>0.399000</td>\n",
              "      <td>0.700000</td>\n",
              "      <td>1.00000</td>\n",
              "      <td>0.500000</td>\n",
              "      <td>0.225000</td>\n",
              "      <td>158.700000</td>\n",
              "      <td>69.600000</td>\n",
              "      <td>3.0</td>\n",
              "      <td>6.0</td>\n",
              "      <td>13.000000</td>\n",
              "      <td>9.300000</td>\n",
              "      <td>...</td>\n",
              "      <td>24.571429</td>\n",
              "      <td>14.142857</td>\n",
              "      <td>10.571429</td>\n",
              "      <td>7.857143</td>\n",
              "      <td>98.571429</td>\n",
              "      <td>32.571429</td>\n",
              "      <td>6.428571</td>\n",
              "      <td>4.285714</td>\n",
              "      <td>61.857143</td>\n",
              "      <td>12.428571</td>\n",
              "      <td>0.000000</td>\n",
              "      <td>29.142857</td>\n",
              "      <td>18.142857</td>\n",
              "      <td>1.142857</td>\n",
              "      <td>0.000000</td>\n",
              "      <td>115.571429</td>\n",
              "      <td>44.714286</td>\n",
              "      <td>0.437143</td>\n",
              "      <td>0.285714</td>\n",
              "      <td>3.285714</td>\n",
              "      <td>0.857143</td>\n",
              "      <td>0.147143</td>\n",
              "      <td>158.142857</td>\n",
              "      <td>82.285714</td>\n",
              "      <td>25.0</td>\n",
              "      <td>1062.00</td>\n",
              "      <td>2.0</td>\n",
              "      <td>0.0</td>\n",
              "      <td>1.0</td>\n",
              "      <td>2.0</td>\n",
              "      <td>0.0</td>\n",
              "      <td>2.0</td>\n",
              "      <td>0.0</td>\n",
              "      <td>5.0</td>\n",
              "      <td>Southpaw</td>\n",
              "      <td>165.10</td>\n",
              "      <td>167.64</td>\n",
              "      <td>125.0</td>\n",
              "      <td>32.0</td>\n",
              "      <td>31.0</td>\n",
              "    </tr>\n",
              "    <tr>\n",
              "      <th>2</th>\n",
              "      <td>Tony Ferguson</td>\n",
              "      <td>Donald Cerrone</td>\n",
              "      <td>Dan Miragliotta</td>\n",
              "      <td>2019-06-08</td>\n",
              "      <td>Chicago, Illinois, USA</td>\n",
              "      <td>Red</td>\n",
              "      <td>False</td>\n",
              "      <td>Lightweight</td>\n",
              "      <td>3</td>\n",
              "      <td>0.0</td>\n",
              "      <td>3.0</td>\n",
              "      <td>0.0</td>\n",
              "      <td>15.354839</td>\n",
              "      <td>11.322581</td>\n",
              "      <td>6.741935</td>\n",
              "      <td>4.387097</td>\n",
              "      <td>84.741935</td>\n",
              "      <td>38.580645</td>\n",
              "      <td>5.516129</td>\n",
              "      <td>3.806452</td>\n",
              "      <td>67.645161</td>\n",
              "      <td>23.258065</td>\n",
              "      <td>0.645161</td>\n",
              "      <td>14.0</td>\n",
              "      <td>12.193548</td>\n",
              "      <td>0.935484</td>\n",
              "      <td>0.096774</td>\n",
              "      <td>97.00</td>\n",
              "      <td>46.774194</td>\n",
              "      <td>0.496129</td>\n",
              "      <td>0.354839</td>\n",
              "      <td>2.16129</td>\n",
              "      <td>0.677419</td>\n",
              "      <td>0.295484</td>\n",
              "      <td>103.709677</td>\n",
              "      <td>52.548387</td>\n",
              "      <td>8.0</td>\n",
              "      <td>8.0</td>\n",
              "      <td>17.903226</td>\n",
              "      <td>11.870968</td>\n",
              "      <td>...</td>\n",
              "      <td>14.466667</td>\n",
              "      <td>8.133333</td>\n",
              "      <td>2.800000</td>\n",
              "      <td>0.733333</td>\n",
              "      <td>91.066667</td>\n",
              "      <td>32.200000</td>\n",
              "      <td>4.866667</td>\n",
              "      <td>2.800000</td>\n",
              "      <td>78.266667</td>\n",
              "      <td>23.200000</td>\n",
              "      <td>0.266667</td>\n",
              "      <td>6.000000</td>\n",
              "      <td>4.400000</td>\n",
              "      <td>0.333333</td>\n",
              "      <td>0.133333</td>\n",
              "      <td>98.733333</td>\n",
              "      <td>35.733333</td>\n",
              "      <td>0.340000</td>\n",
              "      <td>0.066667</td>\n",
              "      <td>2.866667</td>\n",
              "      <td>0.666667</td>\n",
              "      <td>0.131333</td>\n",
              "      <td>102.133333</td>\n",
              "      <td>38.600000</td>\n",
              "      <td>33.0</td>\n",
              "      <td>604.40</td>\n",
              "      <td>2.0</td>\n",
              "      <td>0.0</td>\n",
              "      <td>1.0</td>\n",
              "      <td>3.0</td>\n",
              "      <td>3.0</td>\n",
              "      <td>6.0</td>\n",
              "      <td>1.0</td>\n",
              "      <td>14.0</td>\n",
              "      <td>Orthodox</td>\n",
              "      <td>180.34</td>\n",
              "      <td>193.04</td>\n",
              "      <td>155.0</td>\n",
              "      <td>36.0</td>\n",
              "      <td>35.0</td>\n",
              "    </tr>\n",
              "    <tr>\n",
              "      <th>3</th>\n",
              "      <td>Jimmie Rivera</td>\n",
              "      <td>Petr Yan</td>\n",
              "      <td>Kevin MacDonald</td>\n",
              "      <td>2019-06-08</td>\n",
              "      <td>Chicago, Illinois, USA</td>\n",
              "      <td>Blue</td>\n",
              "      <td>False</td>\n",
              "      <td>Bantamweight</td>\n",
              "      <td>3</td>\n",
              "      <td>0.0</td>\n",
              "      <td>4.0</td>\n",
              "      <td>0.0</td>\n",
              "      <td>17.000000</td>\n",
              "      <td>14.000000</td>\n",
              "      <td>13.750000</td>\n",
              "      <td>11.000000</td>\n",
              "      <td>109.500000</td>\n",
              "      <td>48.750000</td>\n",
              "      <td>13.000000</td>\n",
              "      <td>10.500000</td>\n",
              "      <td>116.250000</td>\n",
              "      <td>53.750000</td>\n",
              "      <td>0.500000</td>\n",
              "      <td>3.0</td>\n",
              "      <td>2.500000</td>\n",
              "      <td>0.500000</td>\n",
              "      <td>0.250000</td>\n",
              "      <td>136.25</td>\n",
              "      <td>70.250000</td>\n",
              "      <td>0.550000</td>\n",
              "      <td>0.250000</td>\n",
              "      <td>2.50000</td>\n",
              "      <td>1.250000</td>\n",
              "      <td>0.287500</td>\n",
              "      <td>154.750000</td>\n",
              "      <td>86.750000</td>\n",
              "      <td>4.0</td>\n",
              "      <td>0.0</td>\n",
              "      <td>12.250000</td>\n",
              "      <td>6.000000</td>\n",
              "      <td>...</td>\n",
              "      <td>20.250000</td>\n",
              "      <td>13.375000</td>\n",
              "      <td>6.875000</td>\n",
              "      <td>5.625000</td>\n",
              "      <td>103.125000</td>\n",
              "      <td>38.500000</td>\n",
              "      <td>0.875000</td>\n",
              "      <td>0.750000</td>\n",
              "      <td>77.375000</td>\n",
              "      <td>20.375000</td>\n",
              "      <td>0.125000</td>\n",
              "      <td>13.250000</td>\n",
              "      <td>11.125000</td>\n",
              "      <td>0.000000</td>\n",
              "      <td>0.000000</td>\n",
              "      <td>110.875000</td>\n",
              "      <td>44.875000</td>\n",
              "      <td>0.446250</td>\n",
              "      <td>0.000000</td>\n",
              "      <td>2.375000</td>\n",
              "      <td>0.000000</td>\n",
              "      <td>0.000000</td>\n",
              "      <td>115.125000</td>\n",
              "      <td>48.875000</td>\n",
              "      <td>20.0</td>\n",
              "      <td>690.25</td>\n",
              "      <td>0.0</td>\n",
              "      <td>0.0</td>\n",
              "      <td>1.0</td>\n",
              "      <td>4.0</td>\n",
              "      <td>1.0</td>\n",
              "      <td>0.0</td>\n",
              "      <td>0.0</td>\n",
              "      <td>6.0</td>\n",
              "      <td>Orthodox</td>\n",
              "      <td>162.56</td>\n",
              "      <td>172.72</td>\n",
              "      <td>135.0</td>\n",
              "      <td>26.0</td>\n",
              "      <td>29.0</td>\n",
              "    </tr>\n",
              "    <tr>\n",
              "      <th>4</th>\n",
              "      <td>Tai Tuivasa</td>\n",
              "      <td>Blagoy Ivanov</td>\n",
              "      <td>Dan Miragliotta</td>\n",
              "      <td>2019-06-08</td>\n",
              "      <td>Chicago, Illinois, USA</td>\n",
              "      <td>Blue</td>\n",
              "      <td>False</td>\n",
              "      <td>Heavyweight</td>\n",
              "      <td>3</td>\n",
              "      <td>0.0</td>\n",
              "      <td>1.0</td>\n",
              "      <td>0.0</td>\n",
              "      <td>17.000000</td>\n",
              "      <td>14.500000</td>\n",
              "      <td>2.500000</td>\n",
              "      <td>2.000000</td>\n",
              "      <td>201.000000</td>\n",
              "      <td>59.500000</td>\n",
              "      <td>0.000000</td>\n",
              "      <td>0.000000</td>\n",
              "      <td>184.500000</td>\n",
              "      <td>45.000000</td>\n",
              "      <td>0.000000</td>\n",
              "      <td>2.0</td>\n",
              "      <td>2.000000</td>\n",
              "      <td>0.000000</td>\n",
              "      <td>0.000000</td>\n",
              "      <td>203.50</td>\n",
              "      <td>61.500000</td>\n",
              "      <td>0.310000</td>\n",
              "      <td>0.000000</td>\n",
              "      <td>0.00000</td>\n",
              "      <td>0.000000</td>\n",
              "      <td>0.000000</td>\n",
              "      <td>204.000000</td>\n",
              "      <td>62.000000</td>\n",
              "      <td>1.0</td>\n",
              "      <td>1.0</td>\n",
              "      <td>42.500000</td>\n",
              "      <td>23.500000</td>\n",
              "      <td>...</td>\n",
              "      <td>6.250000</td>\n",
              "      <td>4.750000</td>\n",
              "      <td>4.500000</td>\n",
              "      <td>3.500000</td>\n",
              "      <td>42.750000</td>\n",
              "      <td>16.250000</td>\n",
              "      <td>7.750000</td>\n",
              "      <td>2.750000</td>\n",
              "      <td>43.250000</td>\n",
              "      <td>14.000000</td>\n",
              "      <td>0.250000</td>\n",
              "      <td>5.500000</td>\n",
              "      <td>3.750000</td>\n",
              "      <td>0.750000</td>\n",
              "      <td>0.000000</td>\n",
              "      <td>55.000000</td>\n",
              "      <td>22.500000</td>\n",
              "      <td>0.397500</td>\n",
              "      <td>0.000000</td>\n",
              "      <td>1.000000</td>\n",
              "      <td>0.000000</td>\n",
              "      <td>0.000000</td>\n",
              "      <td>60.500000</td>\n",
              "      <td>27.750000</td>\n",
              "      <td>7.0</td>\n",
              "      <td>440.75</td>\n",
              "      <td>0.0</td>\n",
              "      <td>0.0</td>\n",
              "      <td>0.0</td>\n",
              "      <td>1.0</td>\n",
              "      <td>2.0</td>\n",
              "      <td>0.0</td>\n",
              "      <td>0.0</td>\n",
              "      <td>3.0</td>\n",
              "      <td>Southpaw</td>\n",
              "      <td>187.96</td>\n",
              "      <td>190.50</td>\n",
              "      <td>264.0</td>\n",
              "      <td>32.0</td>\n",
              "      <td>26.0</td>\n",
              "    </tr>\n",
              "  </tbody>\n",
              "</table>\n",
              "<p>5 rows × 145 columns</p>\n",
              "</div>"
            ],
            "text/plain": [
              "              R_fighter       B_fighter  ... B_age R_age\n",
              "0          Henry Cejudo   Marlon Moraes  ...  31.0  32.0\n",
              "1  Valentina Shevchenko     Jessica Eye  ...  32.0  31.0\n",
              "2         Tony Ferguson  Donald Cerrone  ...  36.0  35.0\n",
              "3         Jimmie Rivera        Petr Yan  ...  26.0  29.0\n",
              "4           Tai Tuivasa   Blagoy Ivanov  ...  32.0  26.0\n",
              "\n",
              "[5 rows x 145 columns]"
            ]
          },
          "metadata": {
            "tags": []
          },
          "execution_count": 17
        }
      ]
    },
    {
      "cell_type": "code",
      "metadata": {
        "id": "1Irfhfl22iHo",
        "colab_type": "code",
        "colab": {},
        "outputId": "8e397023-531f-4bdb-cd2a-e36e5dbb8393"
      },
      "source": [
        "# Resultado esperado (não modifique esta célula)"
      ],
      "execution_count": null,
      "outputs": [
        {
          "output_type": "execute_result",
          "data": {
            "text/html": [
              "<div>\n",
              "<style scoped>\n",
              "    .dataframe tbody tr th:only-of-type {\n",
              "        vertical-align: middle;\n",
              "    }\n",
              "\n",
              "    .dataframe tbody tr th {\n",
              "        vertical-align: top;\n",
              "    }\n",
              "\n",
              "    .dataframe thead th {\n",
              "        text-align: right;\n",
              "    }\n",
              "</style>\n",
              "<table border=\"1\" class=\"dataframe\">\n",
              "  <thead>\n",
              "    <tr style=\"text-align: right;\">\n",
              "      <th></th>\n",
              "      <th>R_fighter</th>\n",
              "      <th>B_fighter</th>\n",
              "      <th>Referee</th>\n",
              "      <th>date</th>\n",
              "      <th>location</th>\n",
              "      <th>Winner</th>\n",
              "      <th>title_bout</th>\n",
              "      <th>weight_class</th>\n",
              "      <th>no_of_rounds</th>\n",
              "      <th>B_current_lose_streak</th>\n",
              "      <th>...</th>\n",
              "      <th>R_win_by_KO/TKO</th>\n",
              "      <th>R_win_by_Submission</th>\n",
              "      <th>R_win_by_TKO_Doctor_Stoppage</th>\n",
              "      <th>R_wins</th>\n",
              "      <th>R_Stance</th>\n",
              "      <th>R_Height_cms</th>\n",
              "      <th>R_Reach_cms</th>\n",
              "      <th>R_Weight_lbs</th>\n",
              "      <th>B_age</th>\n",
              "      <th>R_age</th>\n",
              "    </tr>\n",
              "  </thead>\n",
              "  <tbody>\n",
              "    <tr>\n",
              "      <td>0</td>\n",
              "      <td>Henry Cejudo</td>\n",
              "      <td>Marlon Moraes</td>\n",
              "      <td>Marc Goddard</td>\n",
              "      <td>2019-06-08</td>\n",
              "      <td>Chicago, Illinois, USA</td>\n",
              "      <td>Red</td>\n",
              "      <td>True</td>\n",
              "      <td>Bantamweight</td>\n",
              "      <td>5</td>\n",
              "      <td>0.0</td>\n",
              "      <td>...</td>\n",
              "      <td>2.0</td>\n",
              "      <td>0.0</td>\n",
              "      <td>0.0</td>\n",
              "      <td>8.0</td>\n",
              "      <td>Orthodox</td>\n",
              "      <td>162.56</td>\n",
              "      <td>162.56</td>\n",
              "      <td>135.0</td>\n",
              "      <td>31.0</td>\n",
              "      <td>32.0</td>\n",
              "    </tr>\n",
              "    <tr>\n",
              "      <td>1</td>\n",
              "      <td>Valentina Shevchenko</td>\n",
              "      <td>Jessica Eye</td>\n",
              "      <td>Robert Madrigal</td>\n",
              "      <td>2019-06-08</td>\n",
              "      <td>Chicago, Illinois, USA</td>\n",
              "      <td>Red</td>\n",
              "      <td>True</td>\n",
              "      <td>Women's Flyweight</td>\n",
              "      <td>5</td>\n",
              "      <td>0.0</td>\n",
              "      <td>...</td>\n",
              "      <td>0.0</td>\n",
              "      <td>2.0</td>\n",
              "      <td>0.0</td>\n",
              "      <td>5.0</td>\n",
              "      <td>Southpaw</td>\n",
              "      <td>165.10</td>\n",
              "      <td>167.64</td>\n",
              "      <td>125.0</td>\n",
              "      <td>32.0</td>\n",
              "      <td>31.0</td>\n",
              "    </tr>\n",
              "    <tr>\n",
              "      <td>2</td>\n",
              "      <td>Tony Ferguson</td>\n",
              "      <td>Donald Cerrone</td>\n",
              "      <td>Dan Miragliotta</td>\n",
              "      <td>2019-06-08</td>\n",
              "      <td>Chicago, Illinois, USA</td>\n",
              "      <td>Red</td>\n",
              "      <td>False</td>\n",
              "      <td>Lightweight</td>\n",
              "      <td>3</td>\n",
              "      <td>0.0</td>\n",
              "      <td>...</td>\n",
              "      <td>3.0</td>\n",
              "      <td>6.0</td>\n",
              "      <td>1.0</td>\n",
              "      <td>14.0</td>\n",
              "      <td>Orthodox</td>\n",
              "      <td>180.34</td>\n",
              "      <td>193.04</td>\n",
              "      <td>155.0</td>\n",
              "      <td>36.0</td>\n",
              "      <td>35.0</td>\n",
              "    </tr>\n",
              "    <tr>\n",
              "      <td>3</td>\n",
              "      <td>Jimmie Rivera</td>\n",
              "      <td>Petr Yan</td>\n",
              "      <td>Kevin MacDonald</td>\n",
              "      <td>2019-06-08</td>\n",
              "      <td>Chicago, Illinois, USA</td>\n",
              "      <td>Blue</td>\n",
              "      <td>False</td>\n",
              "      <td>Bantamweight</td>\n",
              "      <td>3</td>\n",
              "      <td>0.0</td>\n",
              "      <td>...</td>\n",
              "      <td>1.0</td>\n",
              "      <td>0.0</td>\n",
              "      <td>0.0</td>\n",
              "      <td>6.0</td>\n",
              "      <td>Orthodox</td>\n",
              "      <td>162.56</td>\n",
              "      <td>172.72</td>\n",
              "      <td>135.0</td>\n",
              "      <td>26.0</td>\n",
              "      <td>29.0</td>\n",
              "    </tr>\n",
              "    <tr>\n",
              "      <td>4</td>\n",
              "      <td>Tai Tuivasa</td>\n",
              "      <td>Blagoy Ivanov</td>\n",
              "      <td>Dan Miragliotta</td>\n",
              "      <td>2019-06-08</td>\n",
              "      <td>Chicago, Illinois, USA</td>\n",
              "      <td>Blue</td>\n",
              "      <td>False</td>\n",
              "      <td>Heavyweight</td>\n",
              "      <td>3</td>\n",
              "      <td>0.0</td>\n",
              "      <td>...</td>\n",
              "      <td>2.0</td>\n",
              "      <td>0.0</td>\n",
              "      <td>0.0</td>\n",
              "      <td>3.0</td>\n",
              "      <td>Southpaw</td>\n",
              "      <td>187.96</td>\n",
              "      <td>190.50</td>\n",
              "      <td>264.0</td>\n",
              "      <td>32.0</td>\n",
              "      <td>26.0</td>\n",
              "    </tr>\n",
              "  </tbody>\n",
              "</table>\n",
              "<p>5 rows × 145 columns</p>\n",
              "</div>"
            ],
            "text/plain": [
              "              R_fighter       B_fighter          Referee        date  \\\n",
              "0          Henry Cejudo   Marlon Moraes     Marc Goddard  2019-06-08   \n",
              "1  Valentina Shevchenko     Jessica Eye  Robert Madrigal  2019-06-08   \n",
              "2         Tony Ferguson  Donald Cerrone  Dan Miragliotta  2019-06-08   \n",
              "3         Jimmie Rivera        Petr Yan  Kevin MacDonald  2019-06-08   \n",
              "4           Tai Tuivasa   Blagoy Ivanov  Dan Miragliotta  2019-06-08   \n",
              "\n",
              "                 location Winner  title_bout       weight_class  no_of_rounds  \\\n",
              "0  Chicago, Illinois, USA    Red        True       Bantamweight             5   \n",
              "1  Chicago, Illinois, USA    Red        True  Women's Flyweight             5   \n",
              "2  Chicago, Illinois, USA    Red       False        Lightweight             3   \n",
              "3  Chicago, Illinois, USA   Blue       False       Bantamweight             3   \n",
              "4  Chicago, Illinois, USA   Blue       False        Heavyweight             3   \n",
              "\n",
              "   B_current_lose_streak  ...  R_win_by_KO/TKO  R_win_by_Submission  \\\n",
              "0                    0.0  ...              2.0                  0.0   \n",
              "1                    0.0  ...              0.0                  2.0   \n",
              "2                    0.0  ...              3.0                  6.0   \n",
              "3                    0.0  ...              1.0                  0.0   \n",
              "4                    0.0  ...              2.0                  0.0   \n",
              "\n",
              "   R_win_by_TKO_Doctor_Stoppage  R_wins  R_Stance  R_Height_cms  R_Reach_cms  \\\n",
              "0                           0.0     8.0  Orthodox        162.56       162.56   \n",
              "1                           0.0     5.0  Southpaw        165.10       167.64   \n",
              "2                           1.0    14.0  Orthodox        180.34       193.04   \n",
              "3                           0.0     6.0  Orthodox        162.56       172.72   \n",
              "4                           0.0     3.0  Southpaw        187.96       190.50   \n",
              "\n",
              "   R_Weight_lbs  B_age  R_age  \n",
              "0         135.0   31.0   32.0  \n",
              "1         125.0   32.0   31.0  \n",
              "2         155.0   36.0   35.0  \n",
              "3         135.0   26.0   29.0  \n",
              "4         264.0   32.0   26.0  \n",
              "\n",
              "[5 rows x 145 columns]"
            ]
          },
          "metadata": {
            "tags": []
          },
          "execution_count": 2
        }
      ]
    },
    {
      "cell_type": "markdown",
      "metadata": {
        "id": "yx3CE_fl2iHx",
        "colab_type": "text"
      },
      "source": [
        "### Diferenças entre os métodos plt.show() e plt.plot()\n",
        "Caso você esteja executando matplotlib a partir do script Python, use o *plt.show()* em qualquer plotagem. Porém, no nosso caso, rodando a partir do notebook, nosso trabalho poderá ser realizado apenas com *plt.plot()*. Não se esqueça que para isso, ativamos a opção de apresentar os gráficos diretamente no notebook através do comando *%matplotlib inline*."
      ]
    },
    {
      "cell_type": "markdown",
      "metadata": {
        "id": "rIxiyZf-2iH0",
        "colab_type": "text"
      },
      "source": [
        "### A anatomia de um gráfico\n",
        "\n",
        "O Matplotlib é baseado no conceito de que todos os elementos que constituem um gráfico estão organizados dentro de uma hierarquia. No topo desta hirarquia, está o ambiente do Matplotlib, fornecido pelo módulo que importamos anteriormente - __matplotlib.pyplot__. A partir dele, o usuário acessa funções que adicionam elementos nos gráficos (linhas, imagens, legendas, etc).\n",
        "\n",
        "Descendo na hirarquia, o usuário poderá utilizar objetos que possuem funcionalidades. Por exemplo, uma figura é criada a partir de um objeto *Figure* ou um subgráfico em um gráfico é manipulado por um objeto *Axe*. Alias, no fim das contas, para deixar o código mais \"acessível\", o usuário acaba sempre trabalhando com os objetos do Matplotlib.\n",
        "\n",
        "Para esclarecer um pouco mais, observe a imagem abaixo. Nela, estão contidas os elementos que compoem um gráfico:\n",
        "<center>\n",
        "<img src='https://matplotlib.org/_images/anatomy.png' alt='Anatomia de um gráfico' width='600' height='600'/>\n",
        "</center>\n",
        "\n",
        "Não se preocupe em entender cada um dos elementos, o importante é ter a noção de que estes elementos possuem uma hierarquia na organização e que você deve obedecê-la durante a montagem de gráficos mais complexos.\n",
        "\n",
        "#### Figure\n",
        "O *Figure* é o elemento de mais alto nível do gráfico. Uma figura pode ter vários eixos (*Axes*), mas um eixo pode pertencer a somente uma figura. Além disso, o objeto *Figure* aceita parâmetros que formatam nosso gráfico.\n",
        "\n",
        "### TAREFA 02\n",
        "1. Instancie uma figura.\n",
        "2. Use o *plt.plot()* para visualizar no notebook.\n",
        "\n",
        "- **DICA**: O objeto *figure* está dentro do matplotlib.pyplot.\n",
        "- **DICA**: Caso você não tenha usado o comando *%matplotlib inline*, a figura não aparecerá."
      ]
    },
    {
      "cell_type": "code",
      "metadata": {
        "id": "lzzXc0Zm2iH1",
        "colab_type": "code",
        "colab": {
          "base_uri": "https://localhost:8080/",
          "height": 282
        },
        "outputId": "cf27f248-5903-489e-d85d-804bcb18690f"
      },
      "source": [
        "plt.plot(data=df)"
      ],
      "execution_count": 8,
      "outputs": [
        {
          "output_type": "execute_result",
          "data": {
            "text/plain": [
              "[]"
            ]
          },
          "metadata": {
            "tags": []
          },
          "execution_count": 8
        },
        {
          "output_type": "display_data",
          "data": {
            "image/png": "[encoded data removed]",
            "text/plain": [
              "<Figure size 432x288 with 1 Axes>"
            ]
          },
          "metadata": {
            "tags": [],
            "needs_background": "light"
          }
        }
      ]
    },
    {
      "cell_type": "code",
      "metadata": {
        "id": "Qr8zmVKy2iH-",
        "colab_type": "code",
        "colab": {},
        "outputId": "95552003-bab0-4615-94c0-5d66c09572af"
      },
      "source": [
        "# Resultado esperado (não modifique esta célula)"
      ],
      "execution_count": null,
      "outputs": [
        {
          "output_type": "execute_result",
          "data": {
            "text/plain": [
              "[]"
            ]
          },
          "metadata": {
            "tags": []
          },
          "execution_count": 3
        },
        {
          "output_type": "display_data",
          "data": {
            "image/png": "[encoded data removed]",
            "text/plain": [
              "<Figure size 432x288 with 1 Axes>"
            ]
          },
          "metadata": {
            "tags": []
          }
        }
      ]
    },
    {
      "cell_type": "markdown",
      "metadata": {
        "id": "W3elzZx02iIG",
        "colab_type": "text"
      },
      "source": [
        "### TAREFA 03\n",
        "1. Instancie uma figura alterando seu tamanho.\n",
        "2. Use o *plt.plot()* para visualizar no notebook.\n",
        "\n",
        "- **DICA**: Use o parâmetro *figsize*."
      ]
    },
    {
      "cell_type": "code",
      "metadata": {
        "id": "KFA2jprp2iIH",
        "colab_type": "code",
        "colab": {
          "base_uri": "https://localhost:8080/",
          "height": 501
        },
        "outputId": "2ab30737-a46d-4cb5-946e-ed3f09be149e"
      },
      "source": [
        "plt.figure(figsize=(15,8))\n",
        "plt.plot(data=df)"
      ],
      "execution_count": 11,
      "outputs": [
        {
          "output_type": "execute_result",
          "data": {
            "text/plain": [
              "[]"
            ]
          },
          "metadata": {
            "tags": []
          },
          "execution_count": 11
        },
        {
          "output_type": "display_data",
          "data": {
            "image/png": "[encoded data removed]",
            "text/plain": [
              "<Figure size 1080x576 with 1 Axes>"
            ]
          },
          "metadata": {
            "tags": [],
            "needs_background": "light"
          }
        }
      ]
    },
    {
      "cell_type": "code",
      "metadata": {
        "id": "IBldlc9E2iIQ",
        "colab_type": "code",
        "colab": {},
        "outputId": "02940ba3-ec10-4eb7-bdfa-6d267a72d30a"
      },
      "source": [
        "# Resultado esperado (não modifique esta célula)"
      ],
      "execution_count": null,
      "outputs": [
        {
          "output_type": "execute_result",
          "data": {
            "text/plain": [
              "[]"
            ]
          },
          "metadata": {
            "tags": []
          },
          "execution_count": 4
        },
        {
          "output_type": "display_data",
          "data": {
            "image/png": "[encoded data removed]",
            "text/plain": [
              "<Figure size 720x720 with 1 Axes>"
            ]
          },
          "metadata": {
            "tags": []
          }
        }
      ]
    },
    {
      "cell_type": "markdown",
      "metadata": {
        "id": "94F2LuZQ2iIY",
        "colab_type": "text"
      },
      "source": [
        "#### Axe\n",
        "Pense em um *Axe* como uma região da figura onde você plotará seus gráficos. Uma *Figure* pode ter vários *Axes*, mas um *Axe* pertence a uma só *Figure*. Para adicionar *Axes* à uma *Figure*, podemos utilizar os métodos *fig.add_axes()* ou *fig.add_subplot()*. Para esclarecer, *Axes* e *subplots* são a mesma coisa.\n",
        "\n",
        "O método *fig.add_subplots()* usa 3 números inteiros como parâmetro. Esses três números definem o número de linhas e colunas e a posição do subplot na figura. Por exemplo, usando *fig.add_subplots(ijk)* adiciona um eixo na k-enésima posição de uma grade que possui i linhas e j colunas.\n",
        "\n",
        "O método *fig.add_subplot()* é a maneira mais fácil de configurar seu layout, enquanto *fig.add_axes()* lhe dará mais controle sobre a posição dos seus eixos.\n",
        "\n",
        "### TAREFA 04\n",
        "1. Instancie uma figura\n",
        "2. Adicione dois subplots lado a lado.\n",
        "3. Não se esqueça do plot.plot()\n",
        "\n",
        "**DICA**: Utilize o método *fig.add_axes()*."
      ]
    },
    {
      "cell_type": "code",
      "metadata": {
        "id": "LdLOK5za2iIZ",
        "colab_type": "code",
        "colab": {
          "base_uri": "https://localhost:8080/",
          "height": 267
        },
        "outputId": "8b069758-e55b-44a6-d75f-957c6d1a2d10"
      },
      "source": [
        "plt.figure(figsize=(6,8))\n",
        "plt.subplot(2,2,1)\n",
        "plt.subplot(2,2,2)"
      ],
      "execution_count": 78,
      "outputs": [
        {
          "output_type": "execute_result",
          "data": {
            "text/plain": [
              "<matplotlib.axes._subplots.AxesSubplot at 0x7f04897d9be0>"
            ]
          },
          "metadata": {
            "tags": []
          },
          "execution_count": 78
        },
        {
          "output_type": "display_data",
          "data": {
            "image/png": "[encoded data removed]",
            "text/plain": [
              "<Figure size 432x576 with 2 Axes>"
            ]
          },
          "metadata": {
            "tags": [],
            "needs_background": "light"
          }
        }
      ]
    },
    {
      "cell_type": "code",
      "metadata": {
        "id": "6b5vb9mm2iIg",
        "colab_type": "code",
        "colab": {},
        "outputId": "b9ae50b9-a04a-4ecb-8115-244eebc80947"
      },
      "source": [
        "# Resultado esperado (não modifique esta célula)"
      ],
      "execution_count": null,
      "outputs": [
        {
          "output_type": "execute_result",
          "data": {
            "text/plain": [
              "[]"
            ]
          },
          "metadata": {
            "tags": []
          },
          "execution_count": 5
        },
        {
          "output_type": "display_data",
          "data": {
            "image/png": "[encoded data removed]",
            "text/plain": [
              "<Figure size 432x288 with 2 Axes>"
            ]
          },
          "metadata": {
            "tags": []
          }
        }
      ]
    },
    {
      "cell_type": "markdown",
      "metadata": {
        "id": "MUah0ui32iIn",
        "colab_type": "text"
      },
      "source": [
        "Cada subplot contém dois eixos, representados pelos objetos *Axis* (observe a diferença entre *Axes* e *Axis*) que cuidam dos limites de cada subplot. As faixas de valores dos eixos podem ser controlados através dos métodos *axes.set_xlim()* e *axes.set_ylim()*.\n",
        "\n",
        "### TAREFA 05\n",
        "1. Altere os limites dos subplotes da figura anterior\n",
        "2. Para o subplot da esquerda, configure o eixo x de 0 a 10.\n",
        "3. No subplot da direita, defina y entre -1 e 1.\n",
        "4. Adicione os títulos \"Esquerda\" e \"Direita\" nos subplots."
      ]
    },
    {
      "cell_type": "code",
      "metadata": {
        "id": "U4hu8tUi2iIo",
        "colab_type": "code",
        "colab": {
          "base_uri": "https://localhost:8080/",
          "height": 262
        },
        "outputId": "35d6887f-b896-45fb-f802-549d5649b24e"
      },
      "source": [
        "plt.figure(figsize=(6,8))\n",
        "plt.subplot(2,2,1)\n",
        "plt.title('Esquerda')\n",
        "plt.xlim(0,10)\n",
        "\n",
        "plt.subplot(2,2,2)\n",
        "plt.title('Direita')\n",
        "plt.xlim(-0.5,0.5)\n",
        "plt.ylim(-1,1);"
      ],
      "execution_count": 95,
      "outputs": [
        {
          "output_type": "display_data",
          "data": {
            "image/png": "[encoded data removed]",
            "text/plain": [
              "<Figure size 432x576 with 2 Axes>"
            ]
          },
          "metadata": {
            "tags": [],
            "needs_background": "light"
          }
        }
      ]
    },
    {
      "cell_type": "code",
      "metadata": {
        "id": "rPp8C7ZU2iI0",
        "colab_type": "code",
        "colab": {},
        "outputId": "9bcf526f-e08c-4826-c3a5-d39a89e0e92c"
      },
      "source": [
        "# Resultado esperado (não modifique esta célula)"
      ],
      "execution_count": null,
      "outputs": [
        {
          "output_type": "execute_result",
          "data": {
            "text/plain": [
              "[]"
            ]
          },
          "metadata": {
            "tags": []
          },
          "execution_count": 6
        },
        {
          "output_type": "display_data",
          "data": {
            "image/png": "[encoded data removed]",
            "text/plain": [
              "<Figure size 432x288 with 2 Axes>"
            ]
          },
          "metadata": {
            "tags": []
          }
        }
      ]
    },
    {
      "cell_type": "markdown",
      "metadata": {
        "id": "CpAy58Be2iI7",
        "colab_type": "text"
      },
      "source": [
        "Nossos subplots estão sobreajustados e o eixo y do subplot da direita está ruim de visualizar.\n",
        "\n",
        "### TAREFA 06\n",
        "1. Com base na figura anterior, ajuste o gráfico.\n",
        "2. Ajuste o tamanho da figura.\n",
        "\n",
        "**DICA**: Use o método *figure.tight_layout()*."
      ]
    },
    {
      "cell_type": "code",
      "metadata": {
        "id": "ED4RiTVh2iI8",
        "colab_type": "code",
        "colab": {
          "base_uri": "https://localhost:8080/",
          "height": 311
        },
        "outputId": "ff77d977-8266-4854-c125-16eac69f6c4d"
      },
      "source": [
        "plt.figure(figsize=(9.5,10))\n",
        "plt.subplot(2,2,1)\n",
        "plt.title('Esquerda')\n",
        "plt.xlim(0,10)\n",
        "\n",
        "plt.subplot(2,2,2)\n",
        "plt.title('Direita')\n",
        "plt.xlim(-0.5,0.5)\n",
        "plt.ylim(-1,1);"
      ],
      "execution_count": 99,
      "outputs": [
        {
          "output_type": "display_data",
          "data": {
            "image/png": "[encoded data removed]",
            "text/plain": [
              "<Figure size 684x720 with 2 Axes>"
            ]
          },
          "metadata": {
            "tags": [],
            "needs_background": "light"
          }
        }
      ]
    },
    {
      "cell_type": "code",
      "metadata": {
        "id": "eMqGix682iJE",
        "colab_type": "code",
        "colab": {},
        "outputId": "1d65f578-ab1e-4b28-b11b-2d32fe1416d4"
      },
      "source": [
        "# Resultado esperado (não modifique esta célula)"
      ],
      "execution_count": null,
      "outputs": [
        {
          "output_type": "execute_result",
          "data": {
            "text/plain": [
              "[]"
            ]
          },
          "metadata": {
            "tags": []
          },
          "execution_count": 7
        },
        {
          "output_type": "display_data",
          "data": {
            "image/png": "[encoded data removed]",
            "text/plain": [
              "<Figure size 576x288 with 2 Axes>"
            ]
          },
          "metadata": {
            "tags": []
          }
        }
      ]
    },
    {
      "cell_type": "markdown",
      "metadata": {
        "id": "MrYeRenP2iJK",
        "colab_type": "text"
      },
      "source": [
        "Bem melhor não é? Percebeu como os objetos (*Figure*, *Axes*, etc) são utilizados na montagem do gráfico? E como os atritutos (*figsize*) e métodos (*tight_layout()*, *set_title()*, *set_xlim()*, etc) destes objetos são utilizados para alterar a estética do grafico?\n",
        "\n",
        "Os recursos do Matplotlib são vastos, mas o conceito de hirarquia de elementos das figuras e a interação destes elementos farão você chegar à qualquer lugar na hora de montar seu gráfico."
      ]
    },
    {
      "cell_type": "markdown",
      "metadata": {
        "id": "gnQCd-ts2iJN",
        "colab_type": "text"
      },
      "source": [
        "### Plotando seus gráficos\n",
        "Vamos voltar ao conjunto de dados do UFC que carregamos mais cedo. Afinal, o Matplotlib é somente uma tela em branco quando você não tem o que desenhar.\n",
        "\n",
        "A variável *fights_by_year* armazena a quantidade de lutas por ano do evento. Apesar deste notebook não pretender ensinar Pandas, é altamente recomendável que você não tenha dúvida sobre o que foi feito na célula abaixo."
      ]
    },
    {
      "cell_type": "code",
      "metadata": {
        "id": "pJtCk3Qz2iJO",
        "colab_type": "code",
        "colab": {}
      },
      "source": [
        "# Transformando a coluna date em objeto datetime e agrupando as lutas por ano.\n",
        "fights['date'] = pd.to_datetime(fights['date'])\n",
        "fights_by_year = fights.groupby(fights['date'].dt.year).size()"
      ],
      "execution_count": 18,
      "outputs": []
    },
    {
      "cell_type": "markdown",
      "metadata": {
        "id": "_EBb--Ei2iJV",
        "colab_type": "text"
      },
      "source": [
        "### TAREFA 07\n",
        "1. Plote a evolução das quantidades de lutas por ano no UFC.\n",
        "2. Use um gráfico de linha.\n",
        "3. Configure título e nome dos eixos x e y."
      ]
    },
    {
      "cell_type": "code",
      "metadata": {
        "id": "Iep8snQu2iJW",
        "colab_type": "code",
        "colab": {
          "base_uri": "https://localhost:8080/",
          "height": 296
        },
        "outputId": "0401e967-22ee-4d14-a615-83fddf67601f"
      },
      "source": [
        "plt.figure(figsize=(6,4))\n",
        "plt.plot(fights_by_year)\n",
        "plt.ylabel('Qtde de luta')\n",
        "plt.xlabel('Ano')"
      ],
      "execution_count": 101,
      "outputs": [
        {
          "output_type": "execute_result",
          "data": {
            "text/plain": [
              "Text(0.5, 0, 'Ano')"
            ]
          },
          "metadata": {
            "tags": []
          },
          "execution_count": 101
        },
        {
          "output_type": "display_data",
          "data": {
            "image/png": "[encoded data removed]",
            "text/plain": [
              "<Figure size 432x288 with 1 Axes>"
            ]
          },
          "metadata": {
            "tags": [],
            "needs_background": "light"
          }
        }
      ]
    },
    {
      "cell_type": "code",
      "metadata": {
        "id": "q1bDEeIj2iJe",
        "colab_type": "code",
        "colab": {},
        "outputId": "909aa847-496b-4fb5-e18c-5c4456aa9aba"
      },
      "source": [
        "# Resultado esperado (não modifique esta célula)"
      ],
      "execution_count": null,
      "outputs": [
        {
          "output_type": "execute_result",
          "data": {
            "text/plain": [
              "Text(0,0.5,'Qtde. de Lutas')"
            ]
          },
          "metadata": {
            "tags": []
          },
          "execution_count": 9
        },
        {
          "output_type": "display_data",
          "data": {
            "image/png": "[encoded data removed]",
            "text/plain": [
              "<Figure size 432x288 with 1 Axes>"
            ]
          },
          "metadata": {
            "tags": []
          }
        }
      ]
    },
    {
      "cell_type": "markdown",
      "metadata": {
        "id": "8Wuh1IMZ2iJm",
        "colab_type": "text"
      },
      "source": [
        "### Matplotlib e pandas\n",
        "A biblioteca Pandas possui integração com o Matplotlib, permitindo que sejam criados gráficos diretamente dos dataframes do Pandas. Se você quiser plotar as informações de forma mais rápida, basta você utilizar o método *plot()* do próprio dataframe.\n",
        "\n",
        "Separamos as 10 classes de peso mais relevantes - maior quantidade de lutas - do UFC ao longo dos anos."
      ]
    },
    {
      "cell_type": "code",
      "metadata": {
        "id": "cpJVhK4F2iJn",
        "colab_type": "code",
        "colab": {}
      },
      "source": [
        "fights_by_class = fights['weight_class'].value_counts()[:10]"
      ],
      "execution_count": 102,
      "outputs": []
    },
    {
      "cell_type": "code",
      "metadata": {
        "id": "izCCiPZS8GNA",
        "colab_type": "code",
        "colab": {}
      },
      "source": [
        "y = fights_by_class.values"
      ],
      "execution_count": 112,
      "outputs": []
    },
    {
      "cell_type": "code",
      "metadata": {
        "id": "8pvMafbPF6Qv",
        "colab_type": "code",
        "colab": {}
      },
      "source": [
        "x=fights_by_class.index"
      ],
      "execution_count": 111,
      "outputs": []
    },
    {
      "cell_type": "code",
      "metadata": {
        "id": "-SVG9BQ2Nmfa",
        "colab_type": "code",
        "colab": {
          "base_uri": "https://localhost:8080/",
          "height": 87
        },
        "outputId": "94b14a5d-812d-448c-aab4-9070a78cdd41"
      },
      "source": [
        "x[0:10]"
      ],
      "execution_count": 124,
      "outputs": [
        {
          "output_type": "execute_result",
          "data": {
            "text/plain": [
              "Index(['Lightweight', 'Welterweight', 'Middleweight', 'Heavyweight',\n",
              "       'Light Heavyweight', 'Featherweight', 'Bantamweight', 'Flyweight',\n",
              "       'Women's Strawweight', 'Women's Bantamweight'],\n",
              "      dtype='object')"
            ]
          },
          "metadata": {
            "tags": []
          },
          "execution_count": 124
        }
      ]
    },
    {
      "cell_type": "markdown",
      "metadata": {
        "id": "E-oHvC0W2iJu",
        "colab_type": "text"
      },
      "source": [
        "### TAREFA 08\n",
        "1. Plote a quantidade de lutas das 10 classes de peso mais relevantes do UFC.\n",
        "2. Use um gráfico de barra diretamente do dataframe.\n",
        "3. Armazene seu plot em um objeto *Axe*.\n",
        "4. Configure título e nome dos eixos x e y."
      ]
    },
    {
      "cell_type": "code",
      "metadata": {
        "id": "DM1G-iGc2iJv",
        "colab_type": "code",
        "colab": {
          "base_uri": "https://localhost:8080/",
          "height": 398
        },
        "outputId": "a5eb6237-c99d-49b5-9b0c-517327587310"
      },
      "source": [
        "fig = plt.figure(figsize=(5,3))\n",
        "eixo = fig.add_axes([0,0,1,1])\n",
        "#fights_by_class.plot.bar()\n",
        "eixo.set_title('quantidade de lutas por classe de peso')\n",
        "eixo.set_xlabel('qtd de lutas')\n",
        "plt.xticks(rotation=50)\n",
        "eixo.set_ylabel('classe por peso');\n",
        "eixo.set_xticklabels(xlabels)\n",
        "plt.bar(x,y)"
      ],
      "execution_count": 127,
      "outputs": [
        {
          "output_type": "execute_result",
          "data": {
            "text/plain": [
              "<BarContainer object of 10 artists>"
            ]
          },
          "metadata": {
            "tags": []
          },
          "execution_count": 127
        },
        {
          "output_type": "display_data",
          "data": {
            "image/png": "[encoded data removed]",
            "text/plain": [
              "<Figure size 360x216 with 1 Axes>"
            ]
          },
          "metadata": {
            "tags": [],
            "needs_background": "light"
          }
        }
      ]
    },
    {
      "cell_type": "code",
      "metadata": {
        "id": "EYbwMIPJ2iJ1",
        "colab_type": "code",
        "colab": {},
        "outputId": "056d0976-930a-4bd2-d140-2a45bd5d6614"
      },
      "source": [
        "# Resultado esperado (não modifique esta célula)"
      ],
      "execution_count": null,
      "outputs": [
        {
          "output_type": "display_data",
          "data": {
            "image/png": "[encoded data removed]",
            "text/plain": [
              "<Figure size 432x288 with 1 Axes>"
            ]
          },
          "metadata": {
            "tags": []
          }
        }
      ]
    },
    {
      "cell_type": "markdown",
      "metadata": {
        "id": "tw2-4gwM2iJ7",
        "colab_type": "text"
      },
      "source": [
        "## Conclusão\n",
        "Matplotlib é provavelmente o pacote Python mais utilizado para gráficos 2D. Ele fornece uma maneira muito rápida de visualizar os dados de Python e figuras de qualidade de publicação em vários formatos. Em conjunto com outras ferramentas, como Pandas e Seaborn (este é um complemento ao Matplotlib), os cientistas de dados tem um grande aliado."
      ]
    },
    {
      "cell_type": "markdown",
      "metadata": {
        "id": "2ouvssbG2iJ9",
        "colab_type": "text"
      },
      "source": [
        "### Awari -  <a href=\"https://awari.com.br/\"> awari.com.br</a>"
      ]
    }
  ]
}